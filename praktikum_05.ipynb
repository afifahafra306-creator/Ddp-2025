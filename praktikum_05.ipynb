{
  "nbformat": 4,
  "nbformat_minor": 0,
  "metadata": {
    "colab": {
      "provenance": [],
      "authorship_tag": "ABX9TyMMc/yC2QlnnksRXdaL++aC",
      "include_colab_link": true
    },
    "kernelspec": {
      "name": "python3",
      "display_name": "Python 3"
    },
    "language_info": {
      "name": "python"
    }
  },
  "cells": [
    {
      "cell_type": "markdown",
      "metadata": {
        "id": "view-in-github",
        "colab_type": "text"
      },
      "source": [
        "<a href=\"https://colab.research.google.com/github/afifahafra306-creator/Ddp-2025/blob/main/praktikum_05.ipynb\" target=\"_parent\"><img src=\"https://colab.research.google.com/assets/colab-badge.svg\" alt=\"Open In Colab\"/></a>"
      ]
    },
    {
      "cell_type": "code",
      "execution_count": 2,
      "metadata": {
        "id": "05-iQymm2Snp",
        "colab": {
          "base_uri": "https://localhost:8080/"
        },
        "outputId": "13ba2227-1211-4587-b37c-7dca0aeac10b"
      },
      "outputs": [
        {
          "output_type": "stream",
          "name": "stdout",
          "text": [
            "['Beat ember', 'motor', 200, 'hitam', 2]\n",
            "['Beat ember', 'motor', 200, 'hitam', 2, 5000, 'metic']\n",
            "['Beat ember', 'motor', 'Honda', 200, 'hitam', 2, 5000, 'metic']\n"
          ]
        }
      ],
      "source": [
        "\n",
        "\n",
        "namaKendaraan =  \"Beat ember\"\n",
        "jenisKendaraan =  \"motor\"\n",
        "ccKendaraan =  200\n",
        "warnaKendaraan =  \"hitam\"\n",
        "rodaKendaraan =  2\n",
        "\n",
        "data_kendaraan = [namaKendaraan,jenisKendaraan,ccKendaraan,warnaKendaraan,\n",
        "rodaKendaraan]\n",
        "\n",
        "print(data_kendaraan)\n",
        "hargaKendaraan = 5000\n",
        "tipeKendaraan = \"metic\"\n",
        "\n",
        "data_kendaraan.append(hargaKendaraan)\n",
        "data_kendaraan.append(tipeKendaraan)\n",
        "print(data_kendaraan)\n",
        "\n",
        "merkKendaraan = \"Honda\"\n",
        "data_kendaraan.insert(2,merkKendaraan)\n",
        "print(data_kendaraan)"
      ]
    },
    {
      "cell_type": "code",
      "source": [
        "pilihan = input(\"\"\"\n",
        "Silahkan pilih menu yang diinginkan\n",
        "===================================\n",
        "1. Luas Persegi\n",
        "2. Luas Lingkaran\n",
        "3. Luas Segitiga\n",
        "===================================\n",
        "Kirimkan hanya angka saja,\n",
        "jawaban =\n",
        "\n",
        "\"\"\")\n",
        "\n",
        "match pilihan:\n",
        "  case 1:\n",
        "    sisi = int(input(\"sisi = \"))\n",
        "    luas = sisi*sisi\n",
        "\n",
        "    print(f\"luas persegi dengan sisi {sisi} adalah {luas}\")\n",
        "    # luas persegi\n",
        "  case 2:\n",
        "    # luas lingkaran\n",
        "    # phi * jarijari**2\n",
        "    print(\"anda memilih luas lingkaran silahkan isi data di bawah\")\n",
        "    jarijari = int(input(\"jarijari = \"))\n",
        "    luas = 3.14 * jarijari**2\n",
        "\n",
        "    print(f\"luas lingkaran dengan jarijari {jarijari} adalah {luas}\")\n",
        "    # luas lingkaran\n",
        "  case 3:\n",
        "    #(alas * tinggi)/2\n",
        "   print(\"anda memilih luas segitiga silahkan isi data\")\n",
        "   alas = int(input(\"alas = \"))\n",
        "   tinggi = 5/2 * alas\n",
        "\n",
        "   print(f\"luas segitiga dengan {alas} adalah {luas}\")\n",
        "    # luas segitiga\n",
        "  case _:\n",
        "   print(\"ya nda tau kok tanya si\")"
      ],
      "metadata": {
        "colab": {
          "base_uri": "https://localhost:8080/"
        },
        "id": "LiN4XdKNLcg9",
        "outputId": "7812943c-81d4-47e7-948f-6d6dd0d3620e"
      },
      "execution_count": 1,
      "outputs": [
        {
          "output_type": "stream",
          "name": "stdout",
          "text": [
            "\n",
            "Silahkan pilih menu yang diinginkan\n",
            "===================================\n",
            "1. Luas Persegi\n",
            "2. Luas Lingkaran\n",
            "3. Luas Segitiga\n",
            "===================================\n",
            "Kirimkan hanya angka saja, \n",
            "jawaban = \n",
            "\n",
            "6\n",
            "ya nda tau kok tanya si\n"
          ]
        }
      ]
    }
  ]
}